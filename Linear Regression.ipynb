{
 "cells": [
  {
   "cell_type": "code",
   "execution_count": 1,
   "metadata": {
    "collapsed": true
   },
   "outputs": [],
   "source": [
    "import numpy as np\n",
    "import tensorflow as tf"
   ]
  },
  {
   "cell_type": "code",
   "execution_count": 2,
   "metadata": {
    "collapsed": false,
    "deletable": true,
    "editable": true
   },
   "outputs": [],
   "source": [
    "n_features = 7\n",
    "m_examples = 1000\n",
    "\n",
    "# The input examples. The i-th row contains the i-th example. \n",
    "X_true = np.random.rand(m_examples, n_features)"
   ]
  },
  {
   "cell_type": "markdown",
   "metadata": {
    "deletable": true,
    "editable": true
   },
   "source": [
    "We have $X$, $m$ examples. Each example (each row) has $n$ features. Thus we have:\n",
    "$$ \n",
    "\\left[\\begin{array}{cccc}\n",
    "x_{11} & x_{12} & \\ldots & x_{1n} \\\\\n",
    "x_{21} & x_{22} & \\ldots & x_{2n} \\\\\n",
    "& & \\vdots \\\\\n",
    "x_{m1} & x_{m2} & \\ldots & x_{mn}\n",
    "\\end{array}\\right] \\times\n",
    "\\left[\\begin{array}{c}\n",
    "w_1 \\\\ w_2 \\\\ \\vdots \\\\ w_n\n",
    "\\end{array}\\right] + b =\n",
    "\\left[\\begin{array}{c}\n",
    "y_1 \\\\ y_2 \\\\ \\vdots \\\\ v_n\n",
    "\\end{array}\\right]\n",
    "$$"
   ]
  },
  {
   "cell_type": "code",
   "execution_count": 3,
   "metadata": {
    "collapsed": false,
    "deletable": true,
    "editable": true
   },
   "outputs": [
    {
     "name": "stdout",
     "output_type": "stream",
     "text": [
      "w = [28.72, 16.31, 12.71, 91.46, 39.95, 22.81, 24.25]\n",
      "b = 37.73\n"
     ]
    }
   ],
   "source": [
    "# This is what we wish linear regression to learn.\n",
    "w_true = np.random.rand(n_features, 1) * 100.0\n",
    "print \"w = [%s]\" % ', '.join(['%.2f' % x for x in w_true])\n",
    "\n",
    "# The constant\n",
    "b_true = np.random.rand(1) * 100.0 - 50.0\n",
    "print \"b = %.2f\" % b_true[0]\n",
    "\n",
    "# Noise\n",
    "noise = np.random.rand(m_examples, 1) / 100.0\n",
    "\n",
    "# These are our labeled \"results\". \n",
    "y_true = (np.matmul(X_true, w_true) + b_true) + noise\n",
    "\n",
    "learning_rate = 0.3"
   ]
  },
  {
   "cell_type": "code",
   "execution_count": 6,
   "metadata": {
    "collapsed": false,
    "deletable": true,
    "editable": true
   },
   "outputs": [],
   "source": [
    "# Placeholder that is fed input data.\n",
    "X_in = tf.placeholder(tf.float32, shape=(m_examples, n_features), name=\"X_in\")\n",
    "# Placeholder that is fed observed results.\n",
    "y_in = tf.placeholder(tf.float32, shape=(m_examples, 1), name=\"y_in\")\n",
    "\n",
    "# The model: we assume y = X_in * w + b\n",
    "w = tf.Variable(tf.truncated_normal((n_features, 1)), name=\"w\")\n",
    "b = tf.Variable(tf.constant(0.1, shape=(1,)), name=\"b\")\n",
    "y = tf.add(tf.matmul(X_in, w), b)\n",
    "\n",
    "# The loss function: we are minimizing square root of mean \n",
    "loss_fn = tf.reduce_mean(tf.square(tf.subtract(y_in, y)))\n",
    "train_step = tf.train.GradientDescentOptimizer(learning_rate).minimize(loss_fn)\n",
    "\n",
    "# Initialize all variables.\n",
    "init_op = tf.global_variables_initializer()\n",
    "# For tracking errors\n",
    "error = []\n",
    "\n",
    "# The total number of batches.\n",
    "batch_count = 100\n",
    "\n",
    "# Steps per batch\n",
    "steps_per_batch = 20\n",
    "\n",
    "with tf.Session() as s:\n",
    "    s.run(init_op)\n",
    "    for batch in range(batch_count):\n",
    "        for step in range(steps_per_batch):\n",
    "            s.run(train_step, feed_dict={X_in: X_true, y_in: y_true})\n",
    "        # Record the current error\n",
    "        error.append(s.run(loss_fn, feed_dict={X_in: X_true, y_in: y_true}))\n",
    "    w_computed = s.run(w)\n",
    "    b_computed = s.run(b)"
   ]
  },
  {
   "cell_type": "code",
   "execution_count": 7,
   "metadata": {
    "collapsed": false,
    "deletable": true,
    "editable": true
   },
   "outputs": [
    {
     "data": {
      "image/png": "[encoded data removed]",
      "text/plain": [
       "<matplotlib.figure.Figure at 0x11085c510>"
      ]
     },
     "metadata": {},
     "output_type": "display_data"
    }
   ],
   "source": [
    "import matplotlib.pyplot as plt\n",
    "\n",
    "%matplotlib inline\n",
    "\n",
    "plt.figure(figsize=(16,5))\n",
    "plt.plot(range(0, batch_count * steps_per_batch, steps_per_batch), error, 'r+', linewidth=2)\n",
    "plt.xlabel('Step')\n",
    "plt.ylabel('Error')\n",
    "plt.show()"
   ]
  },
  {
   "cell_type": "code",
   "execution_count": 8,
   "metadata": {
    "collapsed": false,
    "deletable": true,
    "editable": true
   },
   "outputs": [
    {
     "name": "stdout",
     "output_type": "stream",
     "text": [
      "w computed [28.721, 16.309, 12.711, 91.459, 39.954, 22.810, 24.250]\n",
      "w actual   [28.721, 16.309, 12.712, 91.459, 39.955, 22.810, 24.250]\n",
      "b computed 37.739\n",
      "b actual  37.734\n"
     ]
    }
   ],
   "source": [
    "print \"w computed [%s]\" % ', '.join(['%.3f' % x for x in w_computed.flatten()])\n",
    "print \"w actual   [%s]\" % ', '.join(['%.3f' % x for x in w_true.flatten()])\n",
    "print \"b computed %.3f\" % b_computed[0]\n",
    "print \"b actual  %.3f\" % b_true[0]"
   ]
  },
  {
   "cell_type": "code",
   "execution_count": 10,
   "metadata": {
    "collapsed": false,
    "deletable": true,
    "editable": true
   },
   "outputs": [
    {
     "name": "stdout",
     "output_type": "stream",
     "text": [
      "8.44809e-06\n"
     ]
    }
   ],
   "source": [
    "print error[-1]"
   ]
  },
  {
   "cell_type": "code",
   "execution_count": null,
   "metadata": {
    "collapsed": true
   },
   "outputs": [],
   "source": []
  }
 ],
 "metadata": {
  "kernelspec": {
   "display_name": "Python 2",
   "language": "python",
   "name": "python2"
  },
  "language_info": {
   "codemirror_mode": {
    "name": "ipython",
    "version": 2
   },
   "file_extension": ".py",
   "mimetype": "text/x-python",
   "name": "python",
   "nbconvert_exporter": "python",
   "pygments_lexer": "ipython2",
   "version": "2.7.10"
  }
 },
 "nbformat": 4,
 "nbformat_minor": 0
}
